{
 "cells": [
  {
   "cell_type": "code",
   "execution_count": 1,
   "metadata": {
    "slideshow": {
     "slide_type": "-"
    }
   },
   "outputs": [],
   "source": [
    "import numpy\n",
    "import pandas as pd\n",
    "from sklearn import preprocessing\n",
    "numpy.random.seed(10)"
   ]
  },
  {
   "cell_type": "code",
   "execution_count": 2,
   "metadata": {},
   "outputs": [],
   "source": [
    "filepath=\"titanic/train.xls\"\n",
    "filepath1=\"titanic/test.xls\"\n",
    "train_df = pd.read_excel(filepath)\n",
    "test_df = pd.read_excel(filepath1)"
   ]
  },
  {
   "cell_type": "code",
   "execution_count": 3,
   "metadata": {},
   "outputs": [],
   "source": [
    "col=['Survived','PassengerId','Name','Pclass' ,'Sex', 'Age', 'SibSp',\n",
    "      'Parch', 'Fare', 'Embarked']\n",
    "col_1=['PassengerId','Name','Pclass' ,'Sex', 'Age', 'SibSp',\n",
    "      'Parch', 'Fare', 'Embarked']\n",
    "train_df=train_df[col]\n",
    "test_df=test_df[col_1]"
   ]
  },
  {
   "cell_type": "code",
   "execution_count": 4,
   "metadata": {},
   "outputs": [],
   "source": [
    "def PreprocessData(raw_df):\n",
    "    df=raw_df.drop(['PassengerId'], axis=1)\n",
    "    df=raw_df.drop(['Name'], axis=1)\n",
    "    age_mean = df['Age'].mean()\n",
    "    df['Age'] = df['Age'].fillna(age_mean)\n",
    "    fare_mean = df['Fare'].mean()\n",
    "    df['Fare'] = df['Fare'].fillna(fare_mean)\n",
    "    df['Sex']= df['Sex'].map({'female':0, 'male': 1}).astype(int)\n",
    "    x_OneHot_df = pd.get_dummies(data=df,columns=[\"Embarked\" ])\n",
    "\n",
    "    ndarray = x_OneHot_df.values\n",
    "    Features = ndarray[:,1:]\n",
    "    Label = ndarray[:,0]\n",
    "\n",
    "    minmax_scale = preprocessing.MinMaxScaler(feature_range=(0, 1))\n",
    "    scaledFeatures=minmax_scale.fit_transform(Features)    \n",
    "    \n",
    "    return scaledFeatures,Label"
   ]
  },
  {
   "cell_type": "code",
   "execution_count": 5,
   "metadata": {},
   "outputs": [],
   "source": [
    "def PreprocessData1(raw_df):\n",
    "    df=raw_df.drop(['PassengerId'], axis=1)\n",
    "    df=raw_df.drop(['Name'], axis=1)\n",
    "    age_mean = df['Age'].mean()\n",
    "    df['Age'] = df['Age'].fillna(age_mean)\n",
    "    fare_mean = df['Fare'].mean()\n",
    "    df['Fare'] = df['Fare'].fillna(fare_mean)\n",
    "    df['Sex']= df['Sex'].map({'female':0, 'male': 1}).astype(int)\n",
    "    x_OneHot_df = pd.get_dummies(data=df,columns=[\"Embarked\" ])\n",
    "\n",
    "    ndarray = x_OneHot_df.values\n",
    "    Features = ndarray\n",
    "\n",
    "    minmax_scale = preprocessing.MinMaxScaler(feature_range=(0, 1))\n",
    "    scaledFeatures=minmax_scale.fit_transform(Features)    \n",
    "    \n",
    "    return scaledFeatures"
   ]
  },
  {
   "cell_type": "code",
   "execution_count": 6,
   "metadata": {},
   "outputs": [],
   "source": [
    "train_Features,train_Label=PreprocessData(train_df)\n",
    "test_Features=PreprocessData1(test_df)"
   ]
  },
  {
   "cell_type": "code",
   "execution_count": 7,
   "metadata": {
    "scrolled": false
   },
   "outputs": [
    {
     "data": {
      "text/plain": [
       "array([[0.        , 1.        , 1.        , 0.27117366, 0.125     ,\n",
       "        0.        , 0.01415106, 0.        , 0.        , 1.        ],\n",
       "       [0.0011236 , 0.        , 0.        , 0.4722292 , 0.125     ,\n",
       "        0.        , 0.13913574, 1.        , 0.        , 0.        ],\n",
       "       [0.00224719, 1.        , 0.        , 0.32143755, 0.        ,\n",
       "        0.        , 0.01546857, 0.        , 0.        , 1.        ],\n",
       "       [0.00337079, 0.        , 0.        , 0.43453129, 0.125     ,\n",
       "        0.        , 0.1036443 , 0.        , 0.        , 1.        ],\n",
       "       [0.00449438, 1.        , 1.        , 0.43453129, 0.        ,\n",
       "        0.        , 0.01571255, 0.        , 0.        , 1.        ]])"
      ]
     },
     "execution_count": 7,
     "metadata": {},
     "output_type": "execute_result"
    }
   ],
   "source": [
    "train_Features[:5]"
   ]
  },
  {
   "cell_type": "code",
   "execution_count": 8,
   "metadata": {},
   "outputs": [
    {
     "data": {
      "text/plain": [
       "(891, 10)"
      ]
     },
     "execution_count": 8,
     "metadata": {},
     "output_type": "execute_result"
    }
   ],
   "source": [
    "train_Features.shape"
   ]
  },
  {
   "cell_type": "code",
   "execution_count": 9,
   "metadata": {},
   "outputs": [
    {
     "data": {
      "text/plain": [
       "array([0., 1., 1., 1., 0.])"
      ]
     },
     "execution_count": 9,
     "metadata": {},
     "output_type": "execute_result"
    }
   ],
   "source": [
    "train_Label[:5]"
   ]
  },
  {
   "cell_type": "code",
   "execution_count": 10,
   "metadata": {},
   "outputs": [
    {
     "data": {
      "text/plain": [
       "array([[0.        , 1.        , 1.        , 0.4527232 , 0.        ,\n",
       "        0.        , 0.01528158, 0.        , 1.        , 0.        ],\n",
       "       [0.00239808, 1.        , 0.        , 0.61756561, 0.125     ,\n",
       "        0.        , 0.01366309, 0.        , 0.        , 1.        ],\n",
       "       [0.00479616, 0.5       , 1.        , 0.8153765 , 0.        ,\n",
       "        0.        , 0.01890874, 0.        , 1.        , 0.        ],\n",
       "       [0.00719424, 1.        , 1.        , 0.35381775, 0.        ,\n",
       "        0.        , 0.01690807, 0.        , 0.        , 1.        ],\n",
       "       [0.00959233, 1.        , 0.        , 0.28788079, 0.125     ,\n",
       "        0.11111111, 0.0239836 , 0.        , 0.        , 1.        ]])"
      ]
     },
     "execution_count": 10,
     "metadata": {},
     "output_type": "execute_result"
    }
   ],
   "source": [
    "test_Features[:5]"
   ]
  },
  {
   "cell_type": "markdown",
   "metadata": {},
   "source": [
    "# 3. Create Model "
   ]
  },
  {
   "cell_type": "code",
   "execution_count": 11,
   "metadata": {},
   "outputs": [
    {
     "name": "stderr",
     "output_type": "stream",
     "text": [
      "Using TensorFlow backend.\n"
     ]
    }
   ],
   "source": [
    "from keras.models import Sequential\n",
    "from keras.layers import Dense,Dropout"
   ]
  },
  {
   "cell_type": "code",
   "execution_count": 12,
   "metadata": {},
   "outputs": [],
   "source": [
    "model = Sequential()"
   ]
  },
  {
   "cell_type": "code",
   "execution_count": 13,
   "metadata": {},
   "outputs": [],
   "source": [
    "model.add(Dense(units=100, input_dim=10, \n",
    "                kernel_initializer='uniform', \n",
    "                activation='relu'))"
   ]
  },
  {
   "cell_type": "code",
   "execution_count": 14,
   "metadata": {},
   "outputs": [],
   "source": [
    "model.add(Dense(units=90, \n",
    "                kernel_initializer='uniform', \n",
    "                activation='relu'))"
   ]
  },
  {
   "cell_type": "code",
   "execution_count": 15,
   "metadata": {},
   "outputs": [],
   "source": [
    "model.add(Dense(units=50, \n",
    "                kernel_initializer='uniform', \n",
    "                activation='relu'))"
   ]
  },
  {
   "cell_type": "code",
   "execution_count": 16,
   "metadata": {},
   "outputs": [],
   "source": [
    "model.add(Dense(units=1, \n",
    "                kernel_initializer='uniform',\n",
    "                activation='sigmoid'))"
   ]
  },
  {
   "cell_type": "markdown",
   "metadata": {},
   "source": [
    "# 4. Train model"
   ]
  },
  {
   "cell_type": "code",
   "execution_count": 17,
   "metadata": {},
   "outputs": [],
   "source": [
    "model.compile(loss='binary_crossentropy', \n",
    "              optimizer='adam', metrics=['accuracy'])"
   ]
  },
  {
   "cell_type": "code",
   "execution_count": 18,
   "metadata": {},
   "outputs": [
    {
     "name": "stdout",
     "output_type": "stream",
     "text": [
      "Train on 801 samples, validate on 90 samples\n",
      "Epoch 1/90\n",
      " - 0s - loss: 0.6418 - accuracy: 0.6317 - val_loss: 0.5390 - val_accuracy: 0.8111\n",
      "Epoch 2/90\n",
      " - 0s - loss: 0.4990 - accuracy: 0.7840 - val_loss: 0.5016 - val_accuracy: 0.8000\n",
      "Epoch 3/90\n",
      " - 0s - loss: 0.4757 - accuracy: 0.7890 - val_loss: 0.4424 - val_accuracy: 0.8111\n",
      "Epoch 4/90\n",
      " - 0s - loss: 0.4506 - accuracy: 0.7978 - val_loss: 0.4392 - val_accuracy: 0.8000\n",
      "Epoch 5/90\n",
      " - 0s - loss: 0.4514 - accuracy: 0.8052 - val_loss: 0.4273 - val_accuracy: 0.8111\n",
      "Epoch 6/90\n",
      " - 0s - loss: 0.4491 - accuracy: 0.7978 - val_loss: 0.4216 - val_accuracy: 0.8111\n",
      "Epoch 7/90\n",
      " - 0s - loss: 0.4406 - accuracy: 0.8140 - val_loss: 0.4249 - val_accuracy: 0.8222\n",
      "Epoch 8/90\n",
      " - 0s - loss: 0.4402 - accuracy: 0.8015 - val_loss: 0.4153 - val_accuracy: 0.8444\n",
      "Epoch 9/90\n",
      " - 0s - loss: 0.4357 - accuracy: 0.8052 - val_loss: 0.4264 - val_accuracy: 0.8111\n",
      "Epoch 10/90\n",
      " - 0s - loss: 0.4321 - accuracy: 0.8140 - val_loss: 0.4424 - val_accuracy: 0.7889\n",
      "Epoch 11/90\n",
      " - 0s - loss: 0.4325 - accuracy: 0.8115 - val_loss: 0.4170 - val_accuracy: 0.8111\n",
      "Epoch 12/90\n",
      " - 0s - loss: 0.4295 - accuracy: 0.8190 - val_loss: 0.4033 - val_accuracy: 0.8444\n",
      "Epoch 13/90\n",
      " - 0s - loss: 0.4381 - accuracy: 0.7978 - val_loss: 0.4194 - val_accuracy: 0.8111\n",
      "Epoch 14/90\n",
      " - 0s - loss: 0.4314 - accuracy: 0.8140 - val_loss: 0.4054 - val_accuracy: 0.8111\n",
      "Epoch 15/90\n",
      " - 0s - loss: 0.4270 - accuracy: 0.8152 - val_loss: 0.4083 - val_accuracy: 0.8222\n",
      "Epoch 16/90\n",
      " - 0s - loss: 0.4264 - accuracy: 0.8215 - val_loss: 0.4113 - val_accuracy: 0.8222\n",
      "Epoch 17/90\n",
      " - 0s - loss: 0.4229 - accuracy: 0.8152 - val_loss: 0.4336 - val_accuracy: 0.8000\n",
      "Epoch 18/90\n",
      " - 0s - loss: 0.4200 - accuracy: 0.8127 - val_loss: 0.4048 - val_accuracy: 0.8000\n",
      "Epoch 19/90\n",
      " - 0s - loss: 0.4327 - accuracy: 0.8077 - val_loss: 0.4108 - val_accuracy: 0.8111\n",
      "Epoch 20/90\n",
      " - 0s - loss: 0.4289 - accuracy: 0.8165 - val_loss: 0.3988 - val_accuracy: 0.8222\n",
      "Epoch 21/90\n",
      " - 0s - loss: 0.4206 - accuracy: 0.8165 - val_loss: 0.4096 - val_accuracy: 0.8444\n",
      "Epoch 22/90\n",
      " - 0s - loss: 0.4245 - accuracy: 0.8127 - val_loss: 0.4010 - val_accuracy: 0.8111\n",
      "Epoch 23/90\n",
      " - 0s - loss: 0.4223 - accuracy: 0.8065 - val_loss: 0.4082 - val_accuracy: 0.8222\n",
      "Epoch 24/90\n",
      " - 0s - loss: 0.4175 - accuracy: 0.8215 - val_loss: 0.4076 - val_accuracy: 0.8111\n",
      "Epoch 25/90\n",
      " - 0s - loss: 0.4150 - accuracy: 0.8090 - val_loss: 0.4381 - val_accuracy: 0.8000\n",
      "Epoch 26/90\n",
      " - 0s - loss: 0.4146 - accuracy: 0.8227 - val_loss: 0.4194 - val_accuracy: 0.8222\n",
      "Epoch 27/90\n",
      " - 0s - loss: 0.4124 - accuracy: 0.8202 - val_loss: 0.3925 - val_accuracy: 0.8556\n",
      "Epoch 28/90\n",
      " - 0s - loss: 0.4383 - accuracy: 0.8077 - val_loss: 0.4307 - val_accuracy: 0.8000\n",
      "Epoch 29/90\n",
      " - 0s - loss: 0.4162 - accuracy: 0.8190 - val_loss: 0.4423 - val_accuracy: 0.8000\n",
      "Epoch 30/90\n",
      " - 0s - loss: 0.4102 - accuracy: 0.8252 - val_loss: 0.4261 - val_accuracy: 0.8333\n",
      "Epoch 31/90\n",
      " - 0s - loss: 0.4129 - accuracy: 0.8177 - val_loss: 0.4215 - val_accuracy: 0.8111\n",
      "Epoch 32/90\n",
      " - 0s - loss: 0.4149 - accuracy: 0.8190 - val_loss: 0.4059 - val_accuracy: 0.8556\n",
      "Epoch 33/90\n",
      " - 0s - loss: 0.4097 - accuracy: 0.8252 - val_loss: 0.4010 - val_accuracy: 0.8333\n",
      "Epoch 34/90\n",
      " - 0s - loss: 0.4173 - accuracy: 0.8090 - val_loss: 0.3876 - val_accuracy: 0.8333\n",
      "Epoch 35/90\n",
      " - 0s - loss: 0.4095 - accuracy: 0.8227 - val_loss: 0.4016 - val_accuracy: 0.8333\n",
      "Epoch 36/90\n",
      " - 0s - loss: 0.4067 - accuracy: 0.8202 - val_loss: 0.3860 - val_accuracy: 0.8333\n",
      "Epoch 37/90\n",
      " - 0s - loss: 0.4043 - accuracy: 0.8202 - val_loss: 0.4153 - val_accuracy: 0.8111\n",
      "Epoch 38/90\n",
      " - 0s - loss: 0.4116 - accuracy: 0.8240 - val_loss: 0.4153 - val_accuracy: 0.8111\n",
      "Epoch 39/90\n",
      " - 0s - loss: 0.4062 - accuracy: 0.8265 - val_loss: 0.3899 - val_accuracy: 0.8333\n",
      "Epoch 40/90\n",
      " - 0s - loss: 0.4130 - accuracy: 0.8265 - val_loss: 0.4285 - val_accuracy: 0.8111\n",
      "Epoch 41/90\n",
      " - 0s - loss: 0.4037 - accuracy: 0.8215 - val_loss: 0.4168 - val_accuracy: 0.8333\n",
      "Epoch 42/90\n",
      " - 0s - loss: 0.4041 - accuracy: 0.8290 - val_loss: 0.3699 - val_accuracy: 0.8556\n",
      "Epoch 43/90\n",
      " - 0s - loss: 0.4041 - accuracy: 0.8227 - val_loss: 0.3803 - val_accuracy: 0.8556\n",
      "Epoch 44/90\n",
      " - 0s - loss: 0.4053 - accuracy: 0.8227 - val_loss: 0.3765 - val_accuracy: 0.8556\n",
      "Epoch 45/90\n",
      " - 0s - loss: 0.4011 - accuracy: 0.8290 - val_loss: 0.3782 - val_accuracy: 0.8667\n",
      "Epoch 46/90\n",
      " - 0s - loss: 0.4013 - accuracy: 0.8240 - val_loss: 0.3984 - val_accuracy: 0.8333\n",
      "Epoch 47/90\n",
      " - 0s - loss: 0.3974 - accuracy: 0.8277 - val_loss: 0.4189 - val_accuracy: 0.8222\n",
      "Epoch 48/90\n",
      " - 0s - loss: 0.3959 - accuracy: 0.8340 - val_loss: 0.3988 - val_accuracy: 0.8222\n",
      "Epoch 49/90\n",
      " - 0s - loss: 0.3965 - accuracy: 0.8277 - val_loss: 0.4116 - val_accuracy: 0.8222\n",
      "Epoch 50/90\n",
      " - 0s - loss: 0.4044 - accuracy: 0.8240 - val_loss: 0.4270 - val_accuracy: 0.8333\n",
      "Epoch 51/90\n",
      " - 0s - loss: 0.3995 - accuracy: 0.8252 - val_loss: 0.3836 - val_accuracy: 0.8333\n",
      "Epoch 52/90\n",
      " - 0s - loss: 0.3918 - accuracy: 0.8315 - val_loss: 0.3769 - val_accuracy: 0.8444\n",
      "Epoch 53/90\n",
      " - 0s - loss: 0.3862 - accuracy: 0.8464 - val_loss: 0.3815 - val_accuracy: 0.8556\n",
      "Epoch 54/90\n",
      " - 0s - loss: 0.3876 - accuracy: 0.8340 - val_loss: 0.3820 - val_accuracy: 0.8222\n",
      "Epoch 55/90\n",
      " - 0s - loss: 0.3851 - accuracy: 0.8340 - val_loss: 0.4281 - val_accuracy: 0.8444\n",
      "Epoch 56/90\n",
      " - 0s - loss: 0.3843 - accuracy: 0.8390 - val_loss: 0.4364 - val_accuracy: 0.8444\n",
      "Epoch 57/90\n",
      " - 0s - loss: 0.3859 - accuracy: 0.8402 - val_loss: 0.4036 - val_accuracy: 0.8444\n",
      "Epoch 58/90\n",
      " - 0s - loss: 0.3861 - accuracy: 0.8302 - val_loss: 0.3998 - val_accuracy: 0.8444\n",
      "Epoch 59/90\n",
      " - 0s - loss: 0.3812 - accuracy: 0.8315 - val_loss: 0.4082 - val_accuracy: 0.8444\n",
      "Epoch 60/90\n",
      " - 0s - loss: 0.3822 - accuracy: 0.8277 - val_loss: 0.3727 - val_accuracy: 0.8556\n",
      "Epoch 61/90\n",
      " - 0s - loss: 0.3818 - accuracy: 0.8402 - val_loss: 0.4109 - val_accuracy: 0.8444\n",
      "Epoch 62/90\n",
      " - 0s - loss: 0.3803 - accuracy: 0.8340 - val_loss: 0.3820 - val_accuracy: 0.8333\n",
      "Epoch 63/90\n",
      " - 0s - loss: 0.3807 - accuracy: 0.8439 - val_loss: 0.3532 - val_accuracy: 0.8778\n",
      "Epoch 64/90\n",
      " - 0s - loss: 0.3830 - accuracy: 0.8240 - val_loss: 0.3502 - val_accuracy: 0.8889\n",
      "Epoch 65/90\n",
      " - 0s - loss: 0.3725 - accuracy: 0.8277 - val_loss: 0.4499 - val_accuracy: 0.8444\n",
      "Epoch 66/90\n",
      " - 0s - loss: 0.3736 - accuracy: 0.8352 - val_loss: 0.3978 - val_accuracy: 0.8444\n",
      "Epoch 67/90\n",
      " - 0s - loss: 0.3710 - accuracy: 0.8315 - val_loss: 0.3671 - val_accuracy: 0.8222\n",
      "Epoch 68/90\n",
      " - 0s - loss: 0.3699 - accuracy: 0.8302 - val_loss: 0.3970 - val_accuracy: 0.8778\n",
      "Epoch 69/90\n",
      " - 0s - loss: 0.3762 - accuracy: 0.8240 - val_loss: 0.3851 - val_accuracy: 0.8667\n",
      "Epoch 70/90\n",
      " - 0s - loss: 0.3677 - accuracy: 0.8439 - val_loss: 0.3700 - val_accuracy: 0.8111\n",
      "Epoch 71/90\n",
      " - 0s - loss: 0.3761 - accuracy: 0.8327 - val_loss: 0.3857 - val_accuracy: 0.8444\n",
      "Epoch 72/90\n",
      " - 0s - loss: 0.3646 - accuracy: 0.8315 - val_loss: 0.3579 - val_accuracy: 0.8556\n",
      "Epoch 73/90\n",
      " - 0s - loss: 0.3654 - accuracy: 0.8402 - val_loss: 0.4067 - val_accuracy: 0.8333\n",
      "Epoch 74/90\n",
      " - 0s - loss: 0.3652 - accuracy: 0.8352 - val_loss: 0.4371 - val_accuracy: 0.8333\n",
      "Epoch 75/90\n",
      " - 0s - loss: 0.3616 - accuracy: 0.8377 - val_loss: 0.3896 - val_accuracy: 0.8222\n",
      "Epoch 76/90\n",
      " - 0s - loss: 0.3637 - accuracy: 0.8302 - val_loss: 0.3786 - val_accuracy: 0.8556\n",
      "Epoch 77/90\n",
      " - 0s - loss: 0.3635 - accuracy: 0.8377 - val_loss: 0.4842 - val_accuracy: 0.8111\n",
      "Epoch 78/90\n",
      " - 0s - loss: 0.3674 - accuracy: 0.8402 - val_loss: 0.4439 - val_accuracy: 0.8444\n",
      "Epoch 79/90\n",
      " - 0s - loss: 0.3728 - accuracy: 0.8352 - val_loss: 0.4017 - val_accuracy: 0.8333\n",
      "Epoch 80/90\n",
      " - 0s - loss: 0.3552 - accuracy: 0.8352 - val_loss: 0.4247 - val_accuracy: 0.8111\n",
      "Epoch 81/90\n",
      " - 0s - loss: 0.3573 - accuracy: 0.8427 - val_loss: 0.4371 - val_accuracy: 0.8556\n",
      "Epoch 82/90\n",
      " - 0s - loss: 0.3549 - accuracy: 0.8390 - val_loss: 0.4303 - val_accuracy: 0.8222\n",
      "Epoch 83/90\n",
      " - 0s - loss: 0.3616 - accuracy: 0.8352 - val_loss: 0.4048 - val_accuracy: 0.8667\n",
      "Epoch 84/90\n",
      " - 0s - loss: 0.3555 - accuracy: 0.8414 - val_loss: 0.4663 - val_accuracy: 0.8000\n",
      "Epoch 85/90\n",
      " - 0s - loss: 0.3730 - accuracy: 0.8227 - val_loss: 0.3870 - val_accuracy: 0.8556\n",
      "Epoch 86/90\n",
      " - 0s - loss: 0.3568 - accuracy: 0.8452 - val_loss: 0.4580 - val_accuracy: 0.8444\n",
      "Epoch 87/90\n",
      " - 0s - loss: 0.3536 - accuracy: 0.8402 - val_loss: 0.3920 - val_accuracy: 0.8556\n"
     ]
    },
    {
     "name": "stdout",
     "output_type": "stream",
     "text": [
      "Epoch 88/90\n",
      " - 0s - loss: 0.3553 - accuracy: 0.8439 - val_loss: 0.5142 - val_accuracy: 0.8333\n",
      "Epoch 89/90\n",
      " - 0s - loss: 0.3664 - accuracy: 0.8302 - val_loss: 0.4135 - val_accuracy: 0.8333\n",
      "Epoch 90/90\n",
      " - 0s - loss: 0.3548 - accuracy: 0.8439 - val_loss: 0.4141 - val_accuracy: 0.8111\n"
     ]
    }
   ],
   "source": [
    "train_history =model.fit(x=train_Features, \n",
    "                         y=train_Label, \n",
    "                         validation_split=0.1, \n",
    "                         epochs=90, \n",
    "                         batch_size=10,verbose=2)"
   ]
  },
  {
   "cell_type": "markdown",
   "metadata": {},
   "source": [
    "# 6. Print History"
   ]
  },
  {
   "cell_type": "code",
   "execution_count": 19,
   "metadata": {},
   "outputs": [],
   "source": [
    "import matplotlib.pyplot as plt\n",
    "def show_train_history(train_history,train,validation):\n",
    "    plt.plot(train_history.history[train])\n",
    "    plt.plot(train_history.history[validation])\n",
    "    plt.title('Train History')\n",
    "    plt.ylabel(train)\n",
    "    plt.xlabel('Epoch')\n",
    "    plt.legend(['train', 'validation'], loc='lower right')\n",
    "    plt.show()"
   ]
  },
  {
   "cell_type": "code",
   "execution_count": 20,
   "metadata": {},
   "outputs": [
    {
     "data": {
      "image/png": "[encoded data removed]",
      "text/plain": [
       "<Figure size 432x288 with 1 Axes>"
      ]
     },
     "metadata": {
      "needs_background": "light"
     },
     "output_type": "display_data"
    }
   ],
   "source": [
    "show_train_history(train_history,'accuracy','val_accuracy')"
   ]
  },
  {
   "cell_type": "code",
   "execution_count": 21,
   "metadata": {},
   "outputs": [
    {
     "data": {
      "image/png": "[encoded data removed]",
      "text/plain": [
       "<Figure size 432x288 with 1 Axes>"
      ]
     },
     "metadata": {
      "needs_background": "light"
     },
     "output_type": "display_data"
    }
   ],
   "source": [
    "show_train_history(train_history,'loss','val_loss')"
   ]
  },
  {
   "cell_type": "code",
   "execution_count": 22,
   "metadata": {},
   "outputs": [],
   "source": [
    "all_probability=model.predict(test_Features)"
   ]
  },
  {
   "cell_type": "code",
   "execution_count": 23,
   "metadata": {},
   "outputs": [
    {
     "data": {
      "text/plain": [
       "array([[0.08617401],\n",
       "       [0.5218801 ],\n",
       "       [0.04673225],\n",
       "       [0.14868599],\n",
       "       [0.49997   ],\n",
       "       [0.19268283],\n",
       "       [0.98350996],\n",
       "       [0.14586532],\n",
       "       [0.3728999 ],\n",
       "       [0.12697878]], dtype=float32)"
      ]
     },
     "execution_count": 23,
     "metadata": {},
     "output_type": "execute_result"
    }
   ],
   "source": [
    "all_probability[:10]"
   ]
  },
  {
   "cell_type": "code",
   "execution_count": 24,
   "metadata": {},
   "outputs": [],
   "source": [
    "pd=test_df\n",
    "pd.insert(len(test_df.columns),\n",
    "          'probability',all_probability)"
   ]
  },
  {
   "cell_type": "code",
   "execution_count": 25,
   "metadata": {},
   "outputs": [
    {
     "data": {
      "text/html": [
       "<div>\n",
       "<style scoped>\n",
       "    .dataframe tbody tr th:only-of-type {\n",
       "        vertical-align: middle;\n",
       "    }\n",
       "\n",
       "    .dataframe tbody tr th {\n",
       "        vertical-align: top;\n",
       "    }\n",
       "\n",
       "    .dataframe thead th {\n",
       "        text-align: right;\n",
       "    }\n",
       "</style>\n",
       "<table border=\"1\" class=\"dataframe\">\n",
       "  <thead>\n",
       "    <tr style=\"text-align: right;\">\n",
       "      <th></th>\n",
       "      <th>PassengerId</th>\n",
       "      <th>Name</th>\n",
       "      <th>Pclass</th>\n",
       "      <th>Sex</th>\n",
       "      <th>Age</th>\n",
       "      <th>SibSp</th>\n",
       "      <th>Parch</th>\n",
       "      <th>Fare</th>\n",
       "      <th>Embarked</th>\n",
       "      <th>probability</th>\n",
       "    </tr>\n",
       "  </thead>\n",
       "  <tbody>\n",
       "    <tr>\n",
       "      <th>2</th>\n",
       "      <td>894</td>\n",
       "      <td>Myles, Mr. Thomas Francis</td>\n",
       "      <td>2</td>\n",
       "      <td>male</td>\n",
       "      <td>62.0</td>\n",
       "      <td>0</td>\n",
       "      <td>0</td>\n",
       "      <td>9.6875</td>\n",
       "      <td>Q</td>\n",
       "      <td>0.046732</td>\n",
       "    </tr>\n",
       "    <tr>\n",
       "      <th>3</th>\n",
       "      <td>895</td>\n",
       "      <td>Wirz, Mr. Albert</td>\n",
       "      <td>3</td>\n",
       "      <td>male</td>\n",
       "      <td>27.0</td>\n",
       "      <td>0</td>\n",
       "      <td>0</td>\n",
       "      <td>8.6625</td>\n",
       "      <td>S</td>\n",
       "      <td>0.148686</td>\n",
       "    </tr>\n",
       "    <tr>\n",
       "      <th>4</th>\n",
       "      <td>896</td>\n",
       "      <td>Hirvonen, Mrs. Alexander (Helga E Lindqvist)</td>\n",
       "      <td>3</td>\n",
       "      <td>female</td>\n",
       "      <td>22.0</td>\n",
       "      <td>1</td>\n",
       "      <td>1</td>\n",
       "      <td>12.2875</td>\n",
       "      <td>S</td>\n",
       "      <td>0.499970</td>\n",
       "    </tr>\n",
       "    <tr>\n",
       "      <th>5</th>\n",
       "      <td>897</td>\n",
       "      <td>Svensson, Mr. Johan Cervin</td>\n",
       "      <td>3</td>\n",
       "      <td>male</td>\n",
       "      <td>14.0</td>\n",
       "      <td>0</td>\n",
       "      <td>0</td>\n",
       "      <td>9.2250</td>\n",
       "      <td>S</td>\n",
       "      <td>0.192683</td>\n",
       "    </tr>\n",
       "    <tr>\n",
       "      <th>6</th>\n",
       "      <td>898</td>\n",
       "      <td>Connolly, Miss. Kate</td>\n",
       "      <td>3</td>\n",
       "      <td>female</td>\n",
       "      <td>30.0</td>\n",
       "      <td>0</td>\n",
       "      <td>0</td>\n",
       "      <td>7.6292</td>\n",
       "      <td>Q</td>\n",
       "      <td>0.983510</td>\n",
       "    </tr>\n",
       "    <tr>\n",
       "      <th>...</th>\n",
       "      <td>...</td>\n",
       "      <td>...</td>\n",
       "      <td>...</td>\n",
       "      <td>...</td>\n",
       "      <td>...</td>\n",
       "      <td>...</td>\n",
       "      <td>...</td>\n",
       "      <td>...</td>\n",
       "      <td>...</td>\n",
       "      <td>...</td>\n",
       "    </tr>\n",
       "    <tr>\n",
       "      <th>413</th>\n",
       "      <td>1305</td>\n",
       "      <td>Spector, Mr. Woolf</td>\n",
       "      <td>3</td>\n",
       "      <td>male</td>\n",
       "      <td>NaN</td>\n",
       "      <td>0</td>\n",
       "      <td>0</td>\n",
       "      <td>8.0500</td>\n",
       "      <td>S</td>\n",
       "      <td>0.067124</td>\n",
       "    </tr>\n",
       "    <tr>\n",
       "      <th>414</th>\n",
       "      <td>1306</td>\n",
       "      <td>Oliva y Ocana, Dona. Fermina</td>\n",
       "      <td>1</td>\n",
       "      <td>female</td>\n",
       "      <td>39.0</td>\n",
       "      <td>0</td>\n",
       "      <td>0</td>\n",
       "      <td>108.9000</td>\n",
       "      <td>C</td>\n",
       "      <td>0.999974</td>\n",
       "    </tr>\n",
       "    <tr>\n",
       "      <th>415</th>\n",
       "      <td>1307</td>\n",
       "      <td>Saether, Mr. Simon Sivertsen</td>\n",
       "      <td>3</td>\n",
       "      <td>male</td>\n",
       "      <td>38.5</td>\n",
       "      <td>0</td>\n",
       "      <td>0</td>\n",
       "      <td>7.2500</td>\n",
       "      <td>S</td>\n",
       "      <td>0.068551</td>\n",
       "    </tr>\n",
       "    <tr>\n",
       "      <th>416</th>\n",
       "      <td>1308</td>\n",
       "      <td>Ware, Mr. Frederick</td>\n",
       "      <td>3</td>\n",
       "      <td>male</td>\n",
       "      <td>NaN</td>\n",
       "      <td>0</td>\n",
       "      <td>0</td>\n",
       "      <td>8.0500</td>\n",
       "      <td>S</td>\n",
       "      <td>0.066338</td>\n",
       "    </tr>\n",
       "    <tr>\n",
       "      <th>417</th>\n",
       "      <td>1309</td>\n",
       "      <td>Peter, Master. Michael J</td>\n",
       "      <td>3</td>\n",
       "      <td>male</td>\n",
       "      <td>NaN</td>\n",
       "      <td>1</td>\n",
       "      <td>1</td>\n",
       "      <td>22.3583</td>\n",
       "      <td>C</td>\n",
       "      <td>0.194574</td>\n",
       "    </tr>\n",
       "  </tbody>\n",
       "</table>\n",
       "<p>416 rows × 10 columns</p>\n",
       "</div>"
      ],
      "text/plain": [
       "     PassengerId                                          Name  Pclass  \\\n",
       "2            894                     Myles, Mr. Thomas Francis       2   \n",
       "3            895                              Wirz, Mr. Albert       3   \n",
       "4            896  Hirvonen, Mrs. Alexander (Helga E Lindqvist)       3   \n",
       "5            897                    Svensson, Mr. Johan Cervin       3   \n",
       "6            898                          Connolly, Miss. Kate       3   \n",
       "..           ...                                           ...     ...   \n",
       "413         1305                            Spector, Mr. Woolf       3   \n",
       "414         1306                  Oliva y Ocana, Dona. Fermina       1   \n",
       "415         1307                  Saether, Mr. Simon Sivertsen       3   \n",
       "416         1308                           Ware, Mr. Frederick       3   \n",
       "417         1309                      Peter, Master. Michael J       3   \n",
       "\n",
       "        Sex   Age  SibSp  Parch      Fare Embarked  probability  \n",
       "2      male  62.0      0      0    9.6875        Q     0.046732  \n",
       "3      male  27.0      0      0    8.6625        S     0.148686  \n",
       "4    female  22.0      1      1   12.2875        S     0.499970  \n",
       "5      male  14.0      0      0    9.2250        S     0.192683  \n",
       "6    female  30.0      0      0    7.6292        Q     0.983510  \n",
       "..      ...   ...    ...    ...       ...      ...          ...  \n",
       "413    male   NaN      0      0    8.0500        S     0.067124  \n",
       "414  female  39.0      0      0  108.9000        C     0.999974  \n",
       "415    male  38.5      0      0    7.2500        S     0.068551  \n",
       "416    male   NaN      0      0    8.0500        S     0.066338  \n",
       "417    male   NaN      1      1   22.3583        C     0.194574  \n",
       "\n",
       "[416 rows x 10 columns]"
      ]
     },
     "execution_count": 25,
     "metadata": {},
     "output_type": "execute_result"
    }
   ],
   "source": [
    "pd[2:]"
   ]
  },
  {
   "cell_type": "code",
   "execution_count": 33,
   "metadata": {},
   "outputs": [],
   "source": [
    "test_result=pd.drop(['Name','Pclass','Age','Sex','SibSp','Parch','Embarked','probability','Fare'], axis=1)"
   ]
  },
  {
   "cell_type": "code",
   "execution_count": 34,
   "metadata": {},
   "outputs": [],
   "source": [
    "test_probability=model.predict(test_Features)"
   ]
  },
  {
   "cell_type": "code",
   "execution_count": 35,
   "metadata": {},
   "outputs": [
    {
     "data": {
      "text/plain": [
       "array([[0.08617401],\n",
       "       [0.5218801 ]], dtype=float32)"
      ]
     },
     "execution_count": 35,
     "metadata": {},
     "output_type": "execute_result"
    }
   ],
   "source": [
    "test_probability[:2]"
   ]
  },
  {
   "cell_type": "code",
   "execution_count": 36,
   "metadata": {},
   "outputs": [
    {
     "data": {
      "text/plain": [
       "array([[0],\n",
       "       [1],\n",
       "       [0],\n",
       "       [0],\n",
       "       [0],\n",
       "       [0],\n",
       "       [1],\n",
       "       [0],\n",
       "       [0],\n",
       "       [0]])"
      ]
     },
     "execution_count": 36,
     "metadata": {},
     "output_type": "execute_result"
    }
   ],
   "source": [
    "from sklearn.preprocessing import Binarizer\n",
    "binarizer=Binarizer(0.5)\n",
    "test_predict_result=binarizer.fit_transform(test_probability)\n",
    "test_predict_result=test_predict_result.astype(numpy.int32)\n",
    "test_predict_result[:10]"
   ]
  },
  {
   "cell_type": "code",
   "execution_count": 37,
   "metadata": {},
   "outputs": [],
   "source": [
    "test_result.insert(len(test_result.columns),\n",
    "          'Survived',test_predict_result)"
   ]
  },
  {
   "cell_type": "code",
   "execution_count": 38,
   "metadata": {},
   "outputs": [
    {
     "data": {
      "text/html": [
       "<div>\n",
       "<style scoped>\n",
       "    .dataframe tbody tr th:only-of-type {\n",
       "        vertical-align: middle;\n",
       "    }\n",
       "\n",
       "    .dataframe tbody tr th {\n",
       "        vertical-align: top;\n",
       "    }\n",
       "\n",
       "    .dataframe thead th {\n",
       "        text-align: right;\n",
       "    }\n",
       "</style>\n",
       "<table border=\"1\" class=\"dataframe\">\n",
       "  <thead>\n",
       "    <tr style=\"text-align: right;\">\n",
       "      <th></th>\n",
       "      <th>PassengerId</th>\n",
       "      <th>Survived</th>\n",
       "    </tr>\n",
       "  </thead>\n",
       "  <tbody>\n",
       "    <tr>\n",
       "      <th>0</th>\n",
       "      <td>892</td>\n",
       "      <td>0</td>\n",
       "    </tr>\n",
       "    <tr>\n",
       "      <th>1</th>\n",
       "      <td>893</td>\n",
       "      <td>1</td>\n",
       "    </tr>\n",
       "    <tr>\n",
       "      <th>2</th>\n",
       "      <td>894</td>\n",
       "      <td>0</td>\n",
       "    </tr>\n",
       "    <tr>\n",
       "      <th>3</th>\n",
       "      <td>895</td>\n",
       "      <td>0</td>\n",
       "    </tr>\n",
       "    <tr>\n",
       "      <th>4</th>\n",
       "      <td>896</td>\n",
       "      <td>0</td>\n",
       "    </tr>\n",
       "    <tr>\n",
       "      <th>...</th>\n",
       "      <td>...</td>\n",
       "      <td>...</td>\n",
       "    </tr>\n",
       "    <tr>\n",
       "      <th>413</th>\n",
       "      <td>1305</td>\n",
       "      <td>0</td>\n",
       "    </tr>\n",
       "    <tr>\n",
       "      <th>414</th>\n",
       "      <td>1306</td>\n",
       "      <td>1</td>\n",
       "    </tr>\n",
       "    <tr>\n",
       "      <th>415</th>\n",
       "      <td>1307</td>\n",
       "      <td>0</td>\n",
       "    </tr>\n",
       "    <tr>\n",
       "      <th>416</th>\n",
       "      <td>1308</td>\n",
       "      <td>0</td>\n",
       "    </tr>\n",
       "    <tr>\n",
       "      <th>417</th>\n",
       "      <td>1309</td>\n",
       "      <td>0</td>\n",
       "    </tr>\n",
       "  </tbody>\n",
       "</table>\n",
       "<p>418 rows × 2 columns</p>\n",
       "</div>"
      ],
      "text/plain": [
       "     PassengerId  Survived\n",
       "0            892         0\n",
       "1            893         1\n",
       "2            894         0\n",
       "3            895         0\n",
       "4            896         0\n",
       "..           ...       ...\n",
       "413         1305         0\n",
       "414         1306         1\n",
       "415         1307         0\n",
       "416         1308         0\n",
       "417         1309         0\n",
       "\n",
       "[418 rows x 2 columns]"
      ]
     },
     "execution_count": 38,
     "metadata": {},
     "output_type": "execute_result"
    }
   ],
   "source": [
    "test_result"
   ]
  },
  {
   "cell_type": "code",
   "execution_count": 40,
   "metadata": {},
   "outputs": [],
   "source": [
    "test_result.to_csv(\"result.csv\",index=False)"
   ]
  },
  {
   "cell_type": "code",
   "execution_count": null,
   "metadata": {},
   "outputs": [],
   "source": []
  }
 ],
 "metadata": {
  "anaconda-cloud": {},
  "kernelspec": {
   "display_name": "Python 3",
   "language": "python",
   "name": "python3"
  },
  "language_info": {
   "codemirror_mode": {
    "name": "ipython",
    "version": 3
   },
   "file_extension": ".py",
   "mimetype": "text/x-python",
   "name": "python",
   "nbconvert_exporter": "python",
   "pygments_lexer": "ipython3",
   "version": "3.7.5"
  }
 },
 "nbformat": 4,
 "nbformat_minor": 1
}
